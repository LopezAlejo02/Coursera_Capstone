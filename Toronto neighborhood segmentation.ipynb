{
 "cells": [
  {
   "cell_type": "markdown",
   "id": "215d97db",
   "metadata": {},
   "source": [
    "<h1><center>Toronto neighborhood segmentation\n",
    "</center></h1>\n"
   ]
  },
  {
   "cell_type": "markdown",
   "id": "db4b268f",
   "metadata": {},
   "source": [
    "## 1. Importando librerías \n"
   ]
  },
  {
   "cell_type": "code",
   "execution_count": 8,
   "id": "f61e6ae7",
   "metadata": {},
   "outputs": [
    {
     "name": "stdout",
     "output_type": "stream",
     "text": [
      "Requirement already satisfied: beautifulsoup4 in c:\\users\\user\\anaconda3\\lib\\site-packages (4.11.1)\n",
      "Requirement already satisfied: soupsieve>1.2 in c:\\users\\user\\anaconda3\\lib\\site-packages (from beautifulsoup4) (2.3.1)\n"
     ]
    }
   ],
   "source": [
    "!pip install beautifulsoup4\n",
    "import pandas as pd # librería para el análisis de datos\n",
    "import requests # librería para gestionar las peticiones\n",
    "from bs4 import BeautifulSoup # librería para parsear documentos html"
   ]
  },
  {
   "cell_type": "code",
   "execution_count": 26,
   "id": "e18f162f",
   "metadata": {},
   "outputs": [],
   "source": [
    "# Obteniendo la respuesta en formato html\n",
    "wikiurl=\"https://en.wikipedia.org/wiki/List_of_postal_codes_of_Canada:_M\"\n",
    "response=requests.get(wikiurl)"
   ]
  },
  {
   "cell_type": "code",
   "execution_count": 152,
   "id": "00d17a37",
   "metadata": {
    "scrolled": true
   },
   "outputs": [
    {
     "name": "stdout",
     "output_type": "stream",
     "text": [
      " Regent Park, Harbourfront\n",
      " Lawrence Manor, Lawrence Heights\n",
      " Malvern, Rouge\n",
      " Parkview Hill, Woodbine Gardens\n",
      " Garden District, Ryerson\n",
      " West Deane Park, Princess Gardens, Martin Grove, Islington\n",
      " Rouge Hill, Port Union, Highland Creek\n",
      " Don Mills, Flemingdon Park\n",
      " Guildwood, Morningside, West Hill\n",
      " Bathurst Manor, Wilson Heights, Downsview\n",
      " Richmond, King\n",
      " Northwood Park, York University\n",
      " Harbourfront, Union Station, Toronto Islands\n",
      " Kennedy Park, Ionview, Birchmount Park\n",
      " Downsview, CFB Toronto\n",
      " Toronto Dominion Centre, Design Exchange\n",
      " Parkdale Village, Exhibition Place\n",
      " Golden Mile, Clairlea, Oakridge\n",
      " Commerce Court, Victoria Hotel\n",
      " Cliffside, Cliffcrest, Scarborough Village\n",
      " Bedford Park, Lawrence Manor\n",
      " Mount Dennis, Keelsdale and Silverthorn\n",
      " Humberlea, Emery\n",
      " Birch Cliff, Cliffside\n",
      " Runnymede, The Junction\n",
      " Dorset Park, Wexford Heights, Scarborough Town Centre\n",
      " Wexford, Maryvale\n",
      " North Midtown, Yorkville\n",
      " Tam O'Shanter, Sullivan\n",
      " Kensington Market, Chinatown, Grange Park\n",
      " Milliken, Agincourt North, Steeles, L'Amoreaux\n",
      " Rathnelly, South Hill, Forest Hill, Deer Park\n",
      " CN Tower, King and Spadina, Railway Lands, Harbourfront, South Niagara, Island airport\n",
      " New Toronto, Mimico\n",
      " South Steeles, Silverstone, Jamestown, Mount Olive, Beaumond Heights, Thistletown\n",
      " Steeles, L'Amoreaux\n",
      " Alderwood, Long Branch\n",
      " Clairville, Humberwood, Woodbine Downs, Rexdale, Elms\n",
      " St. James Town, Cabbagetown\n",
      " First Canadian Place, Underground city\n",
      " The Kingsway, Old Mill\n",
      " Old Mill, Sunnylea, Humber Bay, Mimico, The Queensway\n",
      " Mimico, The Queensway\n",
      "180\n",
      "180\n",
      "180\n"
     ]
    }
   ],
   "source": [
    "#Convirtiendo los datos de html a un objeto beautifulsoup\n",
    "soup = BeautifulSoup(response.text, 'html.parser')\n",
    "#Buscamos la tabla objetivo en el objeto beautifulsoup\n",
    "table = soup.find('table')\n",
    "#obtenemos todas las celdas de la tabla y las guardamos en una variable\n",
    "target = table.find_all('p')\n",
    "#extraemos la información de las celdas\n",
    "postal_codes = []\n",
    "boroughs = []\n",
    "neighborhoods = []\n",
    "\n",
    "for cel in target:\n",
    "    neighborhood = []\n",
    "    postal_codes.append(cel.find('b').contents[0])\n",
    "    if cel.find('span').find_all('a') == []:\n",
    "        boroughs.append('Not assigned')\n",
    "        neighborhoods.append('Not assigned')\n",
    "    else:\n",
    "        for item in cel.find('span').find_all('a'):\n",
    "            neighborhood.append(item.contents[0])\n",
    "        boroughs.append(neighborhood[0])\n",
    "        neighborhood.pop(0)\n",
    "        neighborhoods.append(neighborhood)\n",
    "test = []\n",
    "for item,x in zip(neighborhoods,boroughs):\n",
    "    string = ' '\n",
    "    if len(item) > 1 and isinstance(item,list):\n",
    "        for x in item:\n",
    "            string +=  ', ' + x\n",
    "        string = string[2:]\n",
    "        print(string)\n",
    "        test.append(string)\n",
    "    elif isinstance(item,list) and item != []:\n",
    "        test.append(item[0])\n",
    "    elif isinstance(item,list):\n",
    "        test.append(x)\n",
    "    else:\n",
    "        test.append(item)\n",
    "\n",
    "neighborhoods = test\n",
    "print(len(neighborhoods))\n",
    "print(len(boroughs))\n",
    "print(len(postal_codes))"
   ]
  },
  {
   "cell_type": "code",
   "execution_count": 153,
   "id": "ec8adad2",
   "metadata": {},
   "outputs": [
    {
     "data": {
      "text/html": [
       "<div>\n",
       "<style scoped>\n",
       "    .dataframe tbody tr th:only-of-type {\n",
       "        vertical-align: middle;\n",
       "    }\n",
       "\n",
       "    .dataframe tbody tr th {\n",
       "        vertical-align: top;\n",
       "    }\n",
       "\n",
       "    .dataframe thead th {\n",
       "        text-align: right;\n",
       "    }\n",
       "</style>\n",
       "<table border=\"1\" class=\"dataframe\">\n",
       "  <thead>\n",
       "    <tr style=\"text-align: right;\">\n",
       "      <th></th>\n",
       "      <th>PostalCode</th>\n",
       "      <th>Borough</th>\n",
       "      <th>Neighborhood</th>\n",
       "    </tr>\n",
       "  </thead>\n",
       "  <tbody>\n",
       "    <tr>\n",
       "      <th>0</th>\n",
       "      <td>M3A</td>\n",
       "      <td>North York</td>\n",
       "      <td>Parkwoods</td>\n",
       "    </tr>\n",
       "    <tr>\n",
       "      <th>1</th>\n",
       "      <td>M4A</td>\n",
       "      <td>North York</td>\n",
       "      <td>Victoria Village</td>\n",
       "    </tr>\n",
       "    <tr>\n",
       "      <th>2</th>\n",
       "      <td>M5A</td>\n",
       "      <td>Downtown Toronto</td>\n",
       "      <td>Regent Park, Harbourfront</td>\n",
       "    </tr>\n",
       "    <tr>\n",
       "      <th>3</th>\n",
       "      <td>M6A</td>\n",
       "      <td>North York</td>\n",
       "      <td>Lawrence Manor, Lawrence Heights</td>\n",
       "    </tr>\n",
       "    <tr>\n",
       "      <th>4</th>\n",
       "      <td>M7A</td>\n",
       "      <td>Queen's Park</td>\n",
       "      <td>Queen's Park</td>\n",
       "    </tr>\n",
       "  </tbody>\n",
       "</table>\n",
       "</div>"
      ],
      "text/plain": [
       "  PostalCode           Borough                       Neighborhood\n",
       "0        M3A        North York                          Parkwoods\n",
       "1        M4A        North York                   Victoria Village\n",
       "2        M5A  Downtown Toronto          Regent Park, Harbourfront\n",
       "3        M6A        North York   Lawrence Manor, Lawrence Heights\n",
       "4        M7A      Queen's Park                       Queen's Park"
      ]
     },
     "execution_count": 153,
     "metadata": {},
     "output_type": "execute_result"
    }
   ],
   "source": [
    "#Creamos un dataframe con los datos obtenidos\n",
    "data = {'PostalCode' : postal_codes, \n",
    "        'Borough': boroughs, \n",
    "        'Neighborhood': neighborhoods}\n",
    "Toronto_neighborhoods = pd.DataFrame(data)\n",
    "Toronto_neighborhoods = Toronto_neighborhoods[Toronto_neighborhoods['Borough'] != 'Not assigned'].reset_index(drop=True)\n",
    "Toronto_neighborhoods.head()"
   ]
  },
  {
   "cell_type": "code",
   "execution_count": 154,
   "id": "f7bbb6f1",
   "metadata": {},
   "outputs": [
    {
     "data": {
      "text/plain": [
       "(101, 3)"
      ]
     },
     "execution_count": 154,
     "metadata": {},
     "output_type": "execute_result"
    }
   ],
   "source": [
    "Toronto_neighborhoods.shape"
   ]
  }
 ],
 "metadata": {
  "kernelspec": {
   "display_name": "Python 3 (ipykernel)",
   "language": "python",
   "name": "python3"
  },
  "language_info": {
   "codemirror_mode": {
    "name": "ipython",
    "version": 3
   },
   "file_extension": ".py",
   "mimetype": "text/x-python",
   "name": "python",
   "nbconvert_exporter": "python",
   "pygments_lexer": "ipython3",
   "version": "3.9.13"
  }
 },
 "nbformat": 4,
 "nbformat_minor": 5
}
